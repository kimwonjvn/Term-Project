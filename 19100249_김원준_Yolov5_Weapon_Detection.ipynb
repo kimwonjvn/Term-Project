{
  "nbformat": 4,
  "nbformat_minor": 0,
  "metadata": {
    "colab": {
      "provenance": [],
      "gpuType": "T4",
      "include_colab_link": true
    },
    "kernelspec": {
      "name": "python3",
      "display_name": "Python 3"
    },
    "language_info": {
      "name": "python"
    },
    "accelerator": "GPU"
  },
  "cells": [
    {
      "cell_type": "markdown",
      "metadata": {
        "id": "view-in-github",
        "colab_type": "text"
      },
      "source": [
        "<a href=\"https://colab.research.google.com/github/kimwonjvn/Term-Project/blob/main/19100249_%EA%B9%80%EC%9B%90%EC%A4%80_Yolov5_Weapon_Detection.ipynb\" target=\"_parent\"><img src=\"https://colab.research.google.com/assets/colab-badge.svg\" alt=\"Open In Colab\"/></a>"
      ]
    },
    {
      "cell_type": "markdown",
      "source": [
        "Weapon Detection Dataset Download"
      ],
      "metadata": {
        "id": "wF15nu4v92fS"
      }
    },
    {
      "cell_type": "code",
      "source": [
        "!curl -L \"https://universe.roboflow.com/ds/NBvnUqyqHg?key=z1bK9DrWVh\" > roboflow.zip; unzip roboflow.zip; rm roboflow.zip"
      ],
      "metadata": {
        "id": "Yp6hwyq5zuhz"
      },
      "execution_count": null,
      "outputs": []
    },
    {
      "cell_type": "markdown",
      "source": [
        "Baggage X-ray Detection Dataset Download"
      ],
      "metadata": {
        "id": "OO_oFxmg2Pk-"
      }
    },
    {
      "cell_type": "code",
      "execution_count": null,
      "metadata": {
        "id": "0_MfWTNHcKXx"
      },
      "outputs": [],
      "source": [
        "!curl -L \"https://universe.roboflow.com/ds/eszKpY6RX1?key=sMJPyIyenm\" > roboflow.zip; unzip roboflow.zip; rm roboflow.zip"
      ]
    },
    {
      "cell_type": "markdown",
      "source": [
        "Install YOLOv5\n",
        "\n"
      ],
      "metadata": {
        "id": "C_5vzpcI2hrv"
      }
    },
    {
      "cell_type": "code",
      "source": [
        "%cd /content\n",
        "!git clone https://github.com/ultralytics/yolov5.git"
      ],
      "metadata": {
        "id": "rrOmXa9jL675",
        "colab": {
          "base_uri": "https://localhost:8080/"
        },
        "outputId": "2e39f985-a06d-4010-c0ae-6ffd5ca2ab69"
      },
      "execution_count": null,
      "outputs": [
        {
          "output_type": "stream",
          "name": "stdout",
          "text": [
            "/content\n",
            "Cloning into 'yolov5'...\n",
            "remote: Enumerating objects: 15874, done.\u001b[K\n",
            "remote: Counting objects: 100% (106/106), done.\u001b[K\n",
            "remote: Compressing objects: 100% (86/86), done.\u001b[K\n",
            "remote: Total 15874 (delta 45), reused 56 (delta 20), pack-reused 15768\u001b[K\n",
            "Receiving objects: 100% (15874/15874), 14.68 MiB | 7.48 MiB/s, done.\n",
            "Resolving deltas: 100% (10857/10857), done.\n"
          ]
        }
      ]
    },
    {
      "cell_type": "markdown",
      "source": [
        "Install YOLOv5 Requiremens"
      ],
      "metadata": {
        "id": "DC58biCj2sEm"
      }
    },
    {
      "cell_type": "code",
      "source": [
        "%cd /content/yolov5/\n",
        "!pip install -r requirements.txt"
      ],
      "metadata": {
        "id": "1EfkmGLvM-oi"
      },
      "execution_count": null,
      "outputs": []
    },
    {
      "cell_type": "markdown",
      "source": [
        "Make Dataset Folder in content path\n",
        "\n",
        "Confirm [Data.yaml] file"
      ],
      "metadata": {
        "id": "dANAS5Ss28vO"
      }
    },
    {
      "cell_type": "code",
      "source": [
        "%cat /content/dataset/data.yaml"
      ],
      "metadata": {
        "id": "mCdMoP9ONJGY",
        "colab": {
          "base_uri": "https://localhost:8080/"
        },
        "outputId": "9641732e-0719-4d4b-e5d1-a2c3292b9542"
      },
      "execution_count": null,
      "outputs": [
        {
          "output_type": "stream",
          "name": "stdout",
          "text": [
            "train: ../train/images\n",
            "val: ../valid/images\n",
            "test: ../test/images\n",
            "\n",
            "nc: 5\n",
            "names: ['Gun', 'Knife', 'Pliers', 'Scissors', 'Wrench']\n",
            "\n",
            "roboflow:\n",
            "  workspace: mahmoud-m-hdyxu\n",
            "  project: x-ray-airport-prohibited-items\n",
            "  version: 1\n",
            "  license: CC BY 4.0\n",
            "  url: https://universe.roboflow.com/mahmoud-m-hdyxu/x-ray-airport-prohibited-items/dataset/1"
          ]
        }
      ]
    },
    {
      "cell_type": "markdown",
      "source": [
        "Make Train/ Valid/ Test Images List in [.txt file]"
      ],
      "metadata": {
        "id": "XJizccB-3aKm"
      }
    },
    {
      "cell_type": "code",
      "source": [
        "%cd /\n",
        "from glob import glob\n",
        "\n",
        "train_img_list = glob('/content/dataset/train/images/*.jpg')\n",
        "val_img_list = glob('/content/dataset/valid/images/*.jpg')\n",
        "test_img_list = glob('/content/dataset/test/images/*.jpg')\n",
        "\n",
        "print(len(train_img_list))\n",
        "print(len(val_img_list))\n",
        "print(len(test_img_list))"
      ],
      "metadata": {
        "colab": {
          "base_uri": "https://localhost:8080/"
        },
        "id": "7VBLqLRIq63W",
        "outputId": "057e4733-2d88-497c-88f5-d6b0d0ffd968"
      },
      "execution_count": null,
      "outputs": [
        {
          "output_type": "stream",
          "name": "stdout",
          "text": [
            "/\n",
            "5806\n",
            "1660\n",
            "829\n"
          ]
        }
      ]
    },
    {
      "cell_type": "code",
      "source": [
        "with open('/content/dataset/train.txt', 'w') as f:\n",
        "  f.write('\\n'.join(train_img_list) + '\\n')\n",
        "\n",
        "with open('/content/dataset/val.txt', 'w') as f:\n",
        "  f.write('\\n'.join(val_img_list) + '\\n')\n",
        "\n",
        "with open('/content/dataset/test.txt', 'w') as f:\n",
        "  f.write('\\n'.join(test_img_list) + '\\n')"
      ],
      "metadata": {
        "id": "tZGzv6mXPYHM"
      },
      "execution_count": null,
      "outputs": []
    },
    {
      "cell_type": "markdown",
      "source": [
        "Write Each Dataset Path on [data.yaml] file"
      ],
      "metadata": {
        "id": "q0PRghy_4gDh"
      }
    },
    {
      "cell_type": "code",
      "source": [
        "import yaml\n",
        "\n",
        "with open('/content/dataset/data.yaml', 'r') as f:\n",
        "  data = yaml.safe_load(f)\n",
        "\n",
        "print(data)\n",
        "\n",
        "data['train'] = '/content/dataset/train.txt'\n",
        "data['val'] = '/content/dataset/val.txt'\n",
        "data['test'] = '/content/dataset/test.txt'\n",
        "\n",
        "with open('/content/dataset/data.yaml', 'w') as f:\n",
        "  yaml.dump(data, f)\n",
        "\n",
        "print(data)"
      ],
      "metadata": {
        "colab": {
          "base_uri": "https://localhost:8080/"
        },
        "id": "DbRPZKzDPalb",
        "outputId": "42c8567d-904a-4299-cfdc-3a63a6873088"
      },
      "execution_count": null,
      "outputs": [
        {
          "output_type": "stream",
          "name": "stdout",
          "text": [
            "{'train': '../train/images', 'val': '../valid/images', 'test': '../test/images', 'nc': 5, 'names': ['Gun', 'Knife', 'Pliers', 'Scissors', 'Wrench'], 'roboflow': {'workspace': 'mahmoud-m-hdyxu', 'project': 'x-ray-airport-prohibited-items', 'version': 1, 'license': 'CC BY 4.0', 'url': 'https://universe.roboflow.com/mahmoud-m-hdyxu/x-ray-airport-prohibited-items/dataset/1'}}\n",
            "{'train': '/content/dataset/train.txt', 'val': '/content/dataset/val.txt', 'test': '/content/dataset/test.txt', 'nc': 5, 'names': ['Gun', 'Knife', 'Pliers', 'Scissors', 'Wrench'], 'roboflow': {'workspace': 'mahmoud-m-hdyxu', 'project': 'x-ray-airport-prohibited-items', 'version': 1, 'license': 'CC BY 4.0', 'url': 'https://universe.roboflow.com/mahmoud-m-hdyxu/x-ray-airport-prohibited-items/dataset/1'}}\n"
          ]
        }
      ]
    },
    {
      "cell_type": "markdown",
      "source": [
        "Training"
      ],
      "metadata": {
        "id": "GPH7FHPu5F1w"
      }
    },
    {
      "cell_type": "code",
      "source": [
        "%cd /content/yolov5/\n",
        "\n",
        "!python train.py --img 640 --batch 16 --epochs 50 --data /content/dataset/data.yaml --cfg ./models/yolov5s.yaml --weights yolov5s.pt --name train_result"
      ],
      "metadata": {
        "colab": {
          "base_uri": "https://localhost:8080/"
        },
        "id": "5sQoapIOPsPo",
        "outputId": "1808eaff-7fda-43e0-e60f-00a412b75da0"
      },
      "execution_count": null,
      "outputs": [
        {
          "output_type": "stream",
          "name": "stdout",
          "text": [
            "/content/yolov5\n",
            "\u001b[34m\u001b[1mtrain: \u001b[0mweights=yolov5s.pt, cfg=./models/yolov5s.yaml, data=/content/dataset/data.yaml, hyp=data/hyps/hyp.scratch-low.yaml, epochs=50, batch_size=16, imgsz=640, rect=False, resume=False, nosave=False, noval=False, noautoanchor=False, noplots=False, evolve=None, bucket=, cache=None, image_weights=False, device=, multi_scale=False, single_cls=False, optimizer=SGD, sync_bn=False, workers=8, project=runs/train, name=baggage_result, exist_ok=False, quad=False, cos_lr=False, label_smoothing=0.0, patience=100, freeze=[0], save_period=-1, seed=0, local_rank=-1, entity=None, upload_dataset=False, bbox_interval=-1, artifact_alias=latest\n",
            "\u001b[34m\u001b[1mgithub: \u001b[0mup to date with https://github.com/ultralytics/yolov5 ✅\n",
            "YOLOv5 🚀 v7.0-203-g0897415 Python-3.10.12 torch-2.0.1+cu118 CUDA:0 (Tesla T4, 15102MiB)\n",
            "\n",
            "\u001b[34m\u001b[1mhyperparameters: \u001b[0mlr0=0.01, lrf=0.01, momentum=0.937, weight_decay=0.0005, warmup_epochs=3.0, warmup_momentum=0.8, warmup_bias_lr=0.1, box=0.05, cls=0.5, cls_pw=1.0, obj=1.0, obj_pw=1.0, iou_t=0.2, anchor_t=4.0, fl_gamma=0.0, hsv_h=0.015, hsv_s=0.7, hsv_v=0.4, degrees=0.0, translate=0.1, scale=0.5, shear=0.0, perspective=0.0, flipud=0.0, fliplr=0.5, mosaic=1.0, mixup=0.0, copy_paste=0.0\n",
            "\u001b[34m\u001b[1mComet: \u001b[0mrun 'pip install comet_ml' to automatically track and visualize YOLOv5 🚀 runs in Comet\n",
            "\u001b[34m\u001b[1mTensorBoard: \u001b[0mStart with 'tensorboard --logdir runs/train', view at http://localhost:6006/\n",
            "Overriding model.yaml nc=80 with nc=5\n",
            "\n",
            "                 from  n    params  module                                  arguments                     \n",
            "  0                -1  1      3520  models.common.Conv                      [3, 32, 6, 2, 2]              \n",
            "  1                -1  1     18560  models.common.Conv                      [32, 64, 3, 2]                \n",
            "  2                -1  1     18816  models.common.C3                        [64, 64, 1]                   \n",
            "  3                -1  1     73984  models.common.Conv                      [64, 128, 3, 2]               \n",
            "  4                -1  2    115712  models.common.C3                        [128, 128, 2]                 \n",
            "  5                -1  1    295424  models.common.Conv                      [128, 256, 3, 2]              \n",
            "  6                -1  3    625152  models.common.C3                        [256, 256, 3]                 \n",
            "  7                -1  1   1180672  models.common.Conv                      [256, 512, 3, 2]              \n",
            "  8                -1  1   1182720  models.common.C3                        [512, 512, 1]                 \n",
            "  9                -1  1    656896  models.common.SPPF                      [512, 512, 5]                 \n",
            " 10                -1  1    131584  models.common.Conv                      [512, 256, 1, 1]              \n",
            " 11                -1  1         0  torch.nn.modules.upsampling.Upsample    [None, 2, 'nearest']          \n",
            " 12           [-1, 6]  1         0  models.common.Concat                    [1]                           \n",
            " 13                -1  1    361984  models.common.C3                        [512, 256, 1, False]          \n",
            " 14                -1  1     33024  models.common.Conv                      [256, 128, 1, 1]              \n",
            " 15                -1  1         0  torch.nn.modules.upsampling.Upsample    [None, 2, 'nearest']          \n",
            " 16           [-1, 4]  1         0  models.common.Concat                    [1]                           \n",
            " 17                -1  1     90880  models.common.C3                        [256, 128, 1, False]          \n",
            " 18                -1  1    147712  models.common.Conv                      [128, 128, 3, 2]              \n",
            " 19          [-1, 14]  1         0  models.common.Concat                    [1]                           \n",
            " 20                -1  1    296448  models.common.C3                        [256, 256, 1, False]          \n",
            " 21                -1  1    590336  models.common.Conv                      [256, 256, 3, 2]              \n",
            " 22          [-1, 10]  1         0  models.common.Concat                    [1]                           \n",
            " 23                -1  1   1182720  models.common.C3                        [512, 512, 1, False]          \n",
            " 24      [17, 20, 23]  1     26970  models.yolo.Detect                      [5, [[10, 13, 16, 30, 33, 23], [30, 61, 62, 45, 59, 119], [116, 90, 156, 198, 373, 326]], [128, 256, 512]]\n",
            "YOLOv5s summary: 214 layers, 7033114 parameters, 7033114 gradients, 16.0 GFLOPs\n",
            "\n",
            "Transferred 342/349 items from yolov5s.pt\n",
            "\u001b[34m\u001b[1mAMP: \u001b[0mchecks passed ✅\n",
            "\u001b[34m\u001b[1moptimizer:\u001b[0m SGD(lr=0.01) with parameter groups 57 weight(decay=0.0), 60 weight(decay=0.0005), 60 bias\n",
            "\u001b[34m\u001b[1malbumentations: \u001b[0mBlur(p=0.01, blur_limit=(3, 7)), MedianBlur(p=0.01, blur_limit=(3, 7)), ToGray(p=0.01), CLAHE(p=0.01, clip_limit=(1, 4.0), tile_grid_size=(8, 8))\n",
            "\u001b[34m\u001b[1mtrain: \u001b[0mScanning /content/dataset/train.cache... 5806 images, 0 backgrounds, 0 corrupt: 100% 5806/5806 [00:00<?, ?it/s]\n",
            "\u001b[34m\u001b[1mval: \u001b[0mScanning /content/dataset/val.cache... 1660 images, 0 backgrounds, 0 corrupt: 100% 1660/1660 [00:00<?, ?it/s]\n",
            "\n",
            "\u001b[34m\u001b[1mAutoAnchor: \u001b[0m4.55 anchors/target, 1.000 Best Possible Recall (BPR). Current anchors are a good fit to dataset ✅\n",
            "Plotting labels to runs/train/baggage_result/labels.jpg... \n",
            "Image sizes 640 train, 640 val\n",
            "Using 2 dataloader workers\n",
            "Logging results to \u001b[1mruns/train/baggage_result\u001b[0m\n",
            "Starting training for 50 epochs...\n",
            "\n",
            "      Epoch    GPU_mem   box_loss   obj_loss   cls_loss  Instances       Size\n",
            "       0/49      3.49G    0.07297    0.03065    0.04178         26        640: 100% 363/363 [03:04<00:00,  1.96it/s]\n",
            "                 Class     Images  Instances          P          R      mAP50   mAP50-95: 100% 52/52 [00:19<00:00,  2.68it/s]\n",
            "                   all       1660       3176       0.33      0.243      0.155     0.0527\n",
            "\n",
            "      Epoch    GPU_mem   box_loss   obj_loss   cls_loss  Instances       Size\n",
            "       1/49      4.31G    0.05604    0.02464     0.0287         44        640: 100% 363/363 [02:58<00:00,  2.04it/s]\n",
            "                 Class     Images  Instances          P          R      mAP50   mAP50-95: 100% 52/52 [00:20<00:00,  2.60it/s]\n",
            "                   all       1660       3176       0.45      0.444      0.426      0.184\n",
            "\n",
            "      Epoch    GPU_mem   box_loss   obj_loss   cls_loss  Instances       Size\n",
            "       2/49      4.31G    0.05291    0.02314    0.02267         44        640: 100% 363/363 [02:56<00:00,  2.05it/s]\n",
            "                 Class     Images  Instances          P          R      mAP50   mAP50-95: 100% 52/52 [00:21<00:00,  2.46it/s]\n",
            "                   all       1660       3176       0.45      0.522      0.458      0.194\n",
            "\n",
            "      Epoch    GPU_mem   box_loss   obj_loss   cls_loss  Instances       Size\n",
            "       3/49      4.31G    0.05053     0.0234    0.02081         65        640: 100% 363/363 [02:57<00:00,  2.04it/s]\n",
            "                 Class     Images  Instances          P          R      mAP50   mAP50-95: 100% 52/52 [00:21<00:00,  2.47it/s]\n",
            "                   all       1660       3176      0.623      0.502      0.543      0.237\n",
            "\n",
            "      Epoch    GPU_mem   box_loss   obj_loss   cls_loss  Instances       Size\n",
            "       4/49      4.31G    0.04829    0.02299    0.01896         39        640: 100% 363/363 [02:56<00:00,  2.05it/s]\n",
            "                 Class     Images  Instances          P          R      mAP50   mAP50-95: 100% 52/52 [00:21<00:00,  2.46it/s]\n",
            "                   all       1660       3176      0.685       0.55      0.622      0.295\n",
            "\n",
            "      Epoch    GPU_mem   box_loss   obj_loss   cls_loss  Instances       Size\n",
            "       5/49      4.31G    0.04635     0.0219    0.01695         41        640: 100% 363/363 [02:56<00:00,  2.05it/s]\n",
            "                 Class     Images  Instances          P          R      mAP50   mAP50-95: 100% 52/52 [00:19<00:00,  2.61it/s]\n",
            "                   all       1660       3176      0.697      0.595      0.656      0.322\n",
            "\n",
            "      Epoch    GPU_mem   box_loss   obj_loss   cls_loss  Instances       Size\n",
            "       6/49      4.31G     0.0453    0.02167    0.01587         40        640: 100% 363/363 [02:56<00:00,  2.05it/s]\n",
            "                 Class     Images  Instances          P          R      mAP50   mAP50-95: 100% 52/52 [00:19<00:00,  2.62it/s]\n",
            "                   all       1660       3176      0.745      0.622      0.713      0.359\n",
            "\n",
            "      Epoch    GPU_mem   box_loss   obj_loss   cls_loss  Instances       Size\n",
            "       7/49      4.31G    0.04441     0.0212    0.01467         41        640: 100% 363/363 [02:57<00:00,  2.04it/s]\n",
            "                 Class     Images  Instances          P          R      mAP50   mAP50-95: 100% 52/52 [00:20<00:00,  2.53it/s]\n",
            "                   all       1660       3176      0.743      0.626      0.705      0.353\n",
            "\n",
            "      Epoch    GPU_mem   box_loss   obj_loss   cls_loss  Instances       Size\n",
            "       8/49      4.31G    0.04335    0.02095    0.01414         45        640: 100% 363/363 [02:57<00:00,  2.05it/s]\n",
            "                 Class     Images  Instances          P          R      mAP50   mAP50-95: 100% 52/52 [00:20<00:00,  2.53it/s]\n",
            "                   all       1660       3176      0.753      0.661      0.731       0.38\n",
            "\n",
            "      Epoch    GPU_mem   box_loss   obj_loss   cls_loss  Instances       Size\n",
            "       9/49      4.31G    0.04268    0.02062    0.01346         50        640: 100% 363/363 [02:57<00:00,  2.04it/s]\n",
            "                 Class     Images  Instances          P          R      mAP50   mAP50-95: 100% 52/52 [00:20<00:00,  2.50it/s]\n",
            "                   all       1660       3176       0.74       0.66      0.725      0.385\n",
            "\n",
            "      Epoch    GPU_mem   box_loss   obj_loss   cls_loss  Instances       Size\n",
            "      10/49      4.31G    0.04195    0.02066    0.01261         45        640: 100% 363/363 [02:56<00:00,  2.05it/s]\n",
            "                 Class     Images  Instances          P          R      mAP50   mAP50-95: 100% 52/52 [00:20<00:00,  2.59it/s]\n",
            "                   all       1660       3176      0.787      0.655      0.744      0.409\n",
            "\n",
            "      Epoch    GPU_mem   box_loss   obj_loss   cls_loss  Instances       Size\n",
            "      11/49      4.31G    0.04094     0.0202    0.01205         44        640: 100% 363/363 [02:59<00:00,  2.02it/s]\n",
            "                 Class     Images  Instances          P          R      mAP50   mAP50-95: 100% 52/52 [00:19<00:00,  2.63it/s]\n",
            "                   all       1660       3176      0.811       0.66      0.758      0.409\n",
            "\n",
            "      Epoch    GPU_mem   box_loss   obj_loss   cls_loss  Instances       Size\n",
            "      12/49      4.31G    0.04053    0.01996    0.01153         30        640: 100% 363/363 [02:59<00:00,  2.02it/s]\n",
            "                 Class     Images  Instances          P          R      mAP50   mAP50-95: 100% 52/52 [00:19<00:00,  2.67it/s]\n",
            "                   all       1660       3176       0.82      0.684      0.783       0.44\n",
            "\n",
            "      Epoch    GPU_mem   box_loss   obj_loss   cls_loss  Instances       Size\n",
            "      13/49      4.31G    0.04015    0.01971    0.01125         46        640: 100% 363/363 [02:58<00:00,  2.03it/s]\n",
            "                 Class     Images  Instances          P          R      mAP50   mAP50-95: 100% 52/52 [00:20<00:00,  2.53it/s]\n",
            "                   all       1660       3176      0.832      0.693      0.791      0.442\n",
            "\n",
            "      Epoch    GPU_mem   box_loss   obj_loss   cls_loss  Instances       Size\n",
            "      14/49      4.31G    0.03994    0.01919    0.01076         40        640: 100% 363/363 [02:57<00:00,  2.05it/s]\n",
            "                 Class     Images  Instances          P          R      mAP50   mAP50-95: 100% 52/52 [00:20<00:00,  2.48it/s]\n",
            "                   all       1660       3176      0.824      0.699      0.795      0.455\n",
            "\n",
            "      Epoch    GPU_mem   box_loss   obj_loss   cls_loss  Instances       Size\n",
            "      15/49      4.31G    0.03928    0.01937    0.01092         34        640: 100% 363/363 [02:55<00:00,  2.07it/s]\n",
            "                 Class     Images  Instances          P          R      mAP50   mAP50-95: 100% 52/52 [00:20<00:00,  2.50it/s]\n",
            "                   all       1660       3176      0.831      0.711      0.803      0.465\n",
            "\n",
            "      Epoch    GPU_mem   box_loss   obj_loss   cls_loss  Instances       Size\n",
            "      16/49      4.31G    0.03873    0.01864    0.01022         50        640: 100% 363/363 [02:54<00:00,  2.08it/s]\n",
            "                 Class     Images  Instances          P          R      mAP50   mAP50-95: 100% 52/52 [00:19<00:00,  2.67it/s]\n",
            "                   all       1660       3176      0.824      0.743      0.826      0.473\n",
            "\n",
            "      Epoch    GPU_mem   box_loss   obj_loss   cls_loss  Instances       Size\n",
            "      17/49      4.31G    0.03811    0.01912   0.009668         44        640: 100% 363/363 [02:54<00:00,  2.08it/s]\n",
            "                 Class     Images  Instances          P          R      mAP50   mAP50-95: 100% 52/52 [00:20<00:00,  2.51it/s]\n",
            "                   all       1660       3176      0.819      0.725       0.81      0.471\n",
            "\n",
            "      Epoch    GPU_mem   box_loss   obj_loss   cls_loss  Instances       Size\n",
            "      18/49      4.31G    0.03784     0.0186   0.009672         48        640: 100% 363/363 [02:53<00:00,  2.09it/s]\n",
            "                 Class     Images  Instances          P          R      mAP50   mAP50-95: 100% 52/52 [00:19<00:00,  2.64it/s]\n",
            "                   all       1660       3176      0.866       0.71      0.822      0.479\n",
            "\n",
            "      Epoch    GPU_mem   box_loss   obj_loss   cls_loss  Instances       Size\n",
            "      19/49      4.31G    0.03768    0.01889   0.009617         44        640: 100% 363/363 [02:53<00:00,  2.09it/s]\n",
            "                 Class     Images  Instances          P          R      mAP50   mAP50-95: 100% 52/52 [00:21<00:00,  2.47it/s]\n",
            "                   all       1660       3176      0.828      0.744      0.826      0.491\n",
            "\n",
            "      Epoch    GPU_mem   box_loss   obj_loss   cls_loss  Instances       Size\n",
            "      20/49      4.31G    0.03743    0.01852   0.008985         52        640: 100% 363/363 [02:54<00:00,  2.08it/s]\n",
            "                 Class     Images  Instances          P          R      mAP50   mAP50-95: 100% 52/52 [00:19<00:00,  2.70it/s]\n",
            "                   all       1660       3176      0.863      0.732      0.832      0.495\n",
            "\n",
            "      Epoch    GPU_mem   box_loss   obj_loss   cls_loss  Instances       Size\n",
            "      21/49      4.31G    0.03688    0.01832   0.009156         28        640: 100% 363/363 [02:54<00:00,  2.08it/s]\n",
            "                 Class     Images  Instances          P          R      mAP50   mAP50-95: 100% 52/52 [00:20<00:00,  2.54it/s]\n",
            "                   all       1660       3176      0.862      0.748      0.838      0.504\n",
            "\n",
            "      Epoch    GPU_mem   box_loss   obj_loss   cls_loss  Instances       Size\n",
            "      22/49      4.31G    0.03629    0.01807   0.008711         28        640: 100% 363/363 [02:54<00:00,  2.08it/s]\n",
            "                 Class     Images  Instances          P          R      mAP50   mAP50-95: 100% 52/52 [00:20<00:00,  2.54it/s]\n",
            "                   all       1660       3176       0.87      0.734      0.838      0.504\n",
            "\n",
            "      Epoch    GPU_mem   box_loss   obj_loss   cls_loss  Instances       Size\n",
            "      23/49      4.31G    0.03631    0.01793   0.008781         30        640: 100% 363/363 [02:54<00:00,  2.08it/s]\n",
            "                 Class     Images  Instances          P          R      mAP50   mAP50-95: 100% 52/52 [00:19<00:00,  2.70it/s]\n",
            "                   all       1660       3176      0.866      0.745      0.846       0.51\n",
            "\n",
            "      Epoch    GPU_mem   box_loss   obj_loss   cls_loss  Instances       Size\n",
            "      24/49      4.31G    0.03616    0.01789     0.0083         36        640: 100% 363/363 [02:53<00:00,  2.09it/s]\n",
            "                 Class     Images  Instances          P          R      mAP50   mAP50-95: 100% 52/52 [00:20<00:00,  2.52it/s]\n",
            "                   all       1660       3176      0.851      0.753      0.837       0.51\n",
            "\n",
            "      Epoch    GPU_mem   box_loss   obj_loss   cls_loss  Instances       Size\n",
            "      25/49      4.31G    0.03587    0.01772   0.008247         50        640: 100% 363/363 [02:54<00:00,  2.08it/s]\n",
            "                 Class     Images  Instances          P          R      mAP50   mAP50-95: 100% 52/52 [00:19<00:00,  2.69it/s]\n",
            "                   all       1660       3176      0.848      0.746      0.838      0.517\n",
            "\n",
            "      Epoch    GPU_mem   box_loss   obj_loss   cls_loss  Instances       Size\n",
            "      26/49      4.31G    0.03501    0.01741   0.007545         47        640: 100% 363/363 [02:53<00:00,  2.09it/s]\n",
            "                 Class     Images  Instances          P          R      mAP50   mAP50-95: 100% 52/52 [00:20<00:00,  2.51it/s]\n",
            "                   all       1660       3176      0.859      0.767      0.856      0.527\n",
            "\n",
            "      Epoch    GPU_mem   box_loss   obj_loss   cls_loss  Instances       Size\n",
            "      27/49      4.31G    0.03515    0.01706   0.007988         55        640: 100% 363/363 [02:54<00:00,  2.09it/s]\n",
            "                 Class     Images  Instances          P          R      mAP50   mAP50-95: 100% 52/52 [00:19<00:00,  2.67it/s]\n",
            "                   all       1660       3176      0.839      0.785      0.854      0.537\n",
            "\n",
            "      Epoch    GPU_mem   box_loss   obj_loss   cls_loss  Instances       Size\n",
            "      28/49      4.31G    0.03518    0.01742   0.007655         49        640: 100% 363/363 [02:53<00:00,  2.09it/s]\n",
            "                 Class     Images  Instances          P          R      mAP50   mAP50-95: 100% 52/52 [00:20<00:00,  2.48it/s]\n",
            "                   all       1660       3176      0.847      0.766       0.85      0.526\n",
            "\n",
            "      Epoch    GPU_mem   box_loss   obj_loss   cls_loss  Instances       Size\n",
            "      29/49      4.31G    0.03425    0.01691   0.007171         54        640: 100% 363/363 [02:53<00:00,  2.10it/s]\n",
            "                 Class     Images  Instances          P          R      mAP50   mAP50-95: 100% 52/52 [00:19<00:00,  2.64it/s]\n",
            "                   all       1660       3176      0.868      0.789      0.865      0.543\n",
            "\n",
            "      Epoch    GPU_mem   box_loss   obj_loss   cls_loss  Instances       Size\n",
            "      30/49      4.31G    0.03369    0.01704   0.007016         45        640: 100% 363/363 [02:54<00:00,  2.08it/s]\n",
            "                 Class     Images  Instances          P          R      mAP50   mAP50-95: 100% 52/52 [00:20<00:00,  2.53it/s]\n",
            "                   all       1660       3176      0.863      0.782      0.865      0.552\n",
            "\n",
            "      Epoch    GPU_mem   box_loss   obj_loss   cls_loss  Instances       Size\n",
            "      31/49      4.31G    0.03388      0.017   0.007039         41        640: 100% 363/363 [02:53<00:00,  2.09it/s]\n",
            "                 Class     Images  Instances          P          R      mAP50   mAP50-95: 100% 52/52 [00:19<00:00,  2.62it/s]\n",
            "                   all       1660       3176       0.85      0.796      0.869       0.55\n",
            "\n",
            "      Epoch    GPU_mem   box_loss   obj_loss   cls_loss  Instances       Size\n",
            "      32/49      4.31G    0.03369    0.01683   0.007342         30        640: 100% 363/363 [02:53<00:00,  2.09it/s]\n",
            "                 Class     Images  Instances          P          R      mAP50   mAP50-95: 100% 52/52 [00:20<00:00,  2.48it/s]\n",
            "                   all       1660       3176      0.865      0.792      0.866      0.553\n",
            "\n",
            "      Epoch    GPU_mem   box_loss   obj_loss   cls_loss  Instances       Size\n",
            "      33/49      4.31G    0.03328    0.01674   0.006978         49        640: 100% 363/363 [02:52<00:00,  2.11it/s]\n",
            "                 Class     Images  Instances          P          R      mAP50   mAP50-95: 100% 52/52 [00:19<00:00,  2.70it/s]\n",
            "                   all       1660       3176      0.874      0.801      0.875      0.562\n",
            "\n",
            "      Epoch    GPU_mem   box_loss   obj_loss   cls_loss  Instances       Size\n",
            "      34/49      4.31G    0.03304    0.01644   0.006701         38        640: 100% 363/363 [02:50<00:00,  2.13it/s]\n",
            "                 Class     Images  Instances          P          R      mAP50   mAP50-95: 100% 52/52 [00:20<00:00,  2.52it/s]\n",
            "                   all       1660       3176      0.885      0.788      0.876      0.562\n",
            "\n",
            "      Epoch    GPU_mem   box_loss   obj_loss   cls_loss  Instances       Size\n",
            "      35/49      4.31G    0.03286    0.01672   0.006708         46        640: 100% 363/363 [02:50<00:00,  2.13it/s]\n",
            "                 Class     Images  Instances          P          R      mAP50   mAP50-95: 100% 52/52 [00:20<00:00,  2.53it/s]\n",
            "                   all       1660       3176      0.879       0.79      0.877      0.568\n",
            "\n",
            "      Epoch    GPU_mem   box_loss   obj_loss   cls_loss  Instances       Size\n",
            "      36/49      4.31G    0.03255    0.01643   0.006396         38        640: 100% 363/363 [02:50<00:00,  2.13it/s]\n",
            "                 Class     Images  Instances          P          R      mAP50   mAP50-95: 100% 52/52 [00:19<00:00,  2.70it/s]\n",
            "                   all       1660       3176      0.886      0.807      0.884      0.572\n",
            "\n",
            "      Epoch    GPU_mem   box_loss   obj_loss   cls_loss  Instances       Size\n",
            "      37/49      4.31G    0.03198    0.01593   0.006069         48        640: 100% 363/363 [02:52<00:00,  2.10it/s]\n",
            "                 Class     Images  Instances          P          R      mAP50   mAP50-95: 100% 52/52 [00:21<00:00,  2.43it/s]\n",
            "                   all       1660       3176      0.898      0.796      0.887      0.576\n",
            "\n",
            "      Epoch    GPU_mem   box_loss   obj_loss   cls_loss  Instances       Size\n",
            "      38/49      4.31G    0.03162    0.01591    0.00627         34        640: 100% 363/363 [02:53<00:00,  2.09it/s]\n",
            "                 Class     Images  Instances          P          R      mAP50   mAP50-95: 100% 52/52 [00:19<00:00,  2.69it/s]\n",
            "                   all       1660       3176      0.891      0.812      0.891      0.583\n",
            "\n",
            "      Epoch    GPU_mem   box_loss   obj_loss   cls_loss  Instances       Size\n",
            "      39/49      4.31G    0.03168    0.01597   0.005997         38        640: 100% 363/363 [02:52<00:00,  2.10it/s]\n",
            "                 Class     Images  Instances          P          R      mAP50   mAP50-95: 100% 52/52 [00:20<00:00,  2.48it/s]\n",
            "                   all       1660       3176      0.885      0.828      0.889       0.58\n",
            "\n",
            "      Epoch    GPU_mem   box_loss   obj_loss   cls_loss  Instances       Size\n",
            "      40/49      4.31G    0.03155    0.01565   0.006072         38        640: 100% 363/363 [02:52<00:00,  2.11it/s]\n",
            "                 Class     Images  Instances          P          R      mAP50   mAP50-95: 100% 52/52 [00:19<00:00,  2.64it/s]\n",
            "                   all       1660       3176      0.901       0.81      0.891      0.589\n",
            "\n",
            "      Epoch    GPU_mem   box_loss   obj_loss   cls_loss  Instances       Size\n",
            "      41/49      4.31G    0.03109    0.01588   0.005659         39        640: 100% 363/363 [02:52<00:00,  2.10it/s]\n",
            "                 Class     Images  Instances          P          R      mAP50   mAP50-95: 100% 52/52 [00:20<00:00,  2.55it/s]\n",
            "                   all       1660       3176      0.906       0.81      0.888      0.589\n",
            "\n",
            "      Epoch    GPU_mem   box_loss   obj_loss   cls_loss  Instances       Size\n",
            "      42/49      4.31G    0.03065     0.0156   0.005567         27        640: 100% 363/363 [02:52<00:00,  2.11it/s]\n",
            "                 Class     Images  Instances          P          R      mAP50   mAP50-95: 100% 52/52 [00:19<00:00,  2.68it/s]\n",
            "                   all       1660       3176      0.884      0.816       0.89      0.595\n",
            "\n",
            "      Epoch    GPU_mem   box_loss   obj_loss   cls_loss  Instances       Size\n",
            "      43/49      4.31G    0.03028    0.01539    0.00548         38        640: 100% 363/363 [02:52<00:00,  2.10it/s]\n",
            "                 Class     Images  Instances          P          R      mAP50   mAP50-95: 100% 52/52 [00:20<00:00,  2.53it/s]\n",
            "                   all       1660       3176      0.903      0.806      0.892      0.596\n",
            "\n",
            "      Epoch    GPU_mem   box_loss   obj_loss   cls_loss  Instances       Size\n",
            "      44/49      4.31G    0.02998    0.01555   0.005447         39        640: 100% 363/363 [02:52<00:00,  2.11it/s]\n",
            "                 Class     Images  Instances          P          R      mAP50   mAP50-95: 100% 52/52 [00:19<00:00,  2.63it/s]\n",
            "                   all       1660       3176      0.893      0.824      0.899      0.605\n",
            "\n",
            "      Epoch    GPU_mem   box_loss   obj_loss   cls_loss  Instances       Size\n",
            "      45/49      4.31G    0.03009    0.01529   0.005426         37        640: 100% 363/363 [02:51<00:00,  2.11it/s]\n",
            "                 Class     Images  Instances          P          R      mAP50   mAP50-95: 100% 52/52 [00:20<00:00,  2.49it/s]\n",
            "                   all       1660       3176        0.9      0.826        0.9      0.604\n",
            "\n",
            "      Epoch    GPU_mem   box_loss   obj_loss   cls_loss  Instances       Size\n",
            "      46/49      4.31G    0.02983    0.01511   0.004906         33        640: 100% 363/363 [02:53<00:00,  2.09it/s]\n",
            "                 Class     Images  Instances          P          R      mAP50   mAP50-95: 100% 52/52 [00:19<00:00,  2.68it/s]\n",
            "                   all       1660       3176      0.901      0.829      0.899      0.605\n",
            "\n",
            "      Epoch    GPU_mem   box_loss   obj_loss   cls_loss  Instances       Size\n",
            "      47/49      4.31G    0.02929     0.0151   0.005123         32        640: 100% 363/363 [02:52<00:00,  2.10it/s]\n",
            "                 Class     Images  Instances          P          R      mAP50   mAP50-95: 100% 52/52 [00:20<00:00,  2.49it/s]\n",
            "                   all       1660       3176      0.919      0.809      0.901      0.609\n",
            "\n",
            "      Epoch    GPU_mem   box_loss   obj_loss   cls_loss  Instances       Size\n",
            "      48/49      4.31G    0.02924    0.01508   0.005149         36        640: 100% 363/363 [02:51<00:00,  2.12it/s]\n",
            "                 Class     Images  Instances          P          R      mAP50   mAP50-95: 100% 52/52 [00:20<00:00,  2.52it/s]\n",
            "                   all       1660       3176      0.912      0.824      0.903      0.609\n",
            "\n",
            "      Epoch    GPU_mem   box_loss   obj_loss   cls_loss  Instances       Size\n",
            "      49/49      4.31G      0.029    0.01502   0.004753         38        640: 100% 363/363 [02:54<00:00,  2.08it/s]\n",
            "                 Class     Images  Instances          P          R      mAP50   mAP50-95: 100% 52/52 [00:20<00:00,  2.57it/s]\n",
            "                   all       1660       3176      0.909      0.831      0.906      0.614\n",
            "\n",
            "50 epochs completed in 2.715 hours.\n",
            "Optimizer stripped from runs/train/baggage_result/weights/last.pt, 14.5MB\n",
            "Optimizer stripped from runs/train/baggage_result/weights/best.pt, 14.5MB\n",
            "\n",
            "Validating runs/train/baggage_result/weights/best.pt...\n",
            "Fusing layers... \n",
            "YOLOv5s summary: 157 layers, 7023610 parameters, 0 gradients, 15.8 GFLOPs\n",
            "                 Class     Images  Instances          P          R      mAP50   mAP50-95: 100% 52/52 [00:23<00:00,  2.21it/s]\n",
            "                   all       1660       3176      0.907      0.832      0.906      0.614\n",
            "                   Gun       1660        888      0.974      0.943      0.979      0.732\n",
            "                 Knife       1660        442      0.911      0.738      0.851      0.552\n",
            "                Pliers       1660       1110      0.908      0.831      0.914      0.628\n",
            "              Scissors       1660        206      0.894      0.869       0.92      0.581\n",
            "                Wrench       1660        530      0.851      0.779      0.864      0.579\n",
            "Results saved to \u001b[1mruns/train/baggage_result\u001b[0m\n"
          ]
        }
      ]
    },
    {
      "cell_type": "markdown",
      "source": [
        "Detect Weapon on New Data [Test Image]"
      ],
      "metadata": {
        "id": "Byt3rkTS6S86"
      }
    },
    {
      "cell_type": "code",
      "metadata": {
        "id": "TQQ-ZJApwKCZ",
        "colab": {
          "base_uri": "https://localhost:8080/",
          "height": 824
        },
        "outputId": "22991d72-8719-4029-bc01-760e81630930"
      },
      "source": [
        "from IPython.display import Image\n",
        "import os\n",
        "\n",
        "test_img_path = test_img_list[0]\n",
        "\n",
        "!python detect.py --weights /content/yolov5/runs/train/baggage_result/weights/best.pt --img 640 --conf 0.5 --source \"{test_img_path}\"\n",
        "\n",
        "Image(os.path.join('/content/yolov5/runs/detect/exp/', os.path.basename(test_img_path)))"
      ],
      "execution_count": null,
      "outputs": [
        {
          "output_type": "stream",
          "name": "stdout",
          "text": [
            "\u001b[34m\u001b[1mdetect: \u001b[0mweights=['/content/yolov5/runs/train/baggage_result/weights/best.pt'], source=/content/dataset/test/images/P04757_jpg.rf.33ac859da4591daa5694c84b97ade036.jpg, data=data/coco128.yaml, imgsz=[640, 640], conf_thres=0.5, iou_thres=0.45, max_det=1000, device=, view_img=False, save_txt=False, save_conf=False, save_crop=False, nosave=False, classes=None, agnostic_nms=False, augment=False, visualize=False, update=False, project=runs/detect, name=exp, exist_ok=False, line_thickness=3, hide_labels=False, hide_conf=False, half=False, dnn=False, vid_stride=1\n",
            "YOLOv5 🚀 v7.0-203-g0897415 Python-3.10.12 torch-2.0.1+cu118 CUDA:0 (Tesla T4, 15102MiB)\n",
            "\n",
            "Fusing layers... \n",
            "YOLOv5s summary: 157 layers, 7023610 parameters, 0 gradients, 15.8 GFLOPs\n",
            "image 1/1 /content/dataset/test/images/P04757_jpg.rf.33ac859da4591daa5694c84b97ade036.jpg: 640x640 1 Pliers, 11.5ms\n",
            "Speed: 0.6ms pre-process, 11.5ms inference, 1.7ms NMS per image at shape (1, 3, 640, 640)\n",
            "Results saved to \u001b[1mruns/detect/exp3\u001b[0m\n"
          ]
        },
        {
          "output_type": "execute_result",
          "data": {
            "image/jpeg": "[encoded data removed]",
            "text/plain": [
              "<IPython.core.display.Image object>"
            ]
          },
          "metadata": {},
          "execution_count": 18
        }
      ]
    }
  ]
}